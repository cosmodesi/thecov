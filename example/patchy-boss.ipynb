{
 "cells": [
  {
   "cell_type": "markdown",
   "id": "af2815d4-c91b-46f4-9f9d-fb621ea3da1e",
   "metadata": {
    "tags": []
   },
   "source": [
    "## Box Geometry"
   ]
  },
  {
   "cell_type": "code",
   "execution_count": 3,
   "id": "0cfef22e-d5c6-46f5-ada4-6e9a46ce0139",
   "metadata": {},
   "outputs": [],
   "source": [
    "import sys\n",
    "sys.path.insert(0, '../src')\n",
    "import TheCov.ThePowerCov"
   ]
  },
  {
   "cell_type": "code",
   "execution_count": 1,
   "id": "1262e936-1a5c-472d-9995-fd566b2bf3b3",
   "metadata": {},
   "outputs": [],
   "source": [
    "import cov\n",
    "import numpy as np\n",
    "\n",
    "k, P0, P2, P4 = np.loadtxt('../postrec/unit/multipoles/RecAni_dk005/UNIELG-b0s15rsd0g1536postmultipoles.txt', unpack=True)\n",
    "\n",
    "c = cov.GaussianBoxCovariance(Lbox=3750, nbar=3e-3)\n",
    "\n",
    "c.load_multipole(k, P0, 0)\n",
    "c.load_multipole(k, P2, 2)\n",
    "c.load_multipole(k, P4, 4)\n",
    "\n",
    "c.set_kbins(0.0, 0.5, 0.005)\n",
    "\n",
    "c.covariance"
   ]
  },
  {
   "cell_type": "markdown",
   "id": "33130be3-c5cc-41ac-b3d5-02278bb307a0",
   "metadata": {},
   "source": [
    "## Survey Geometry"
   ]
  },
  {
   "cell_type": "code",
   "execution_count": 21,
   "id": "f3123232-157e-4121-87d3-4ba890063eb8",
   "metadata": {
    "tags": []
   },
   "outputs": [
    {
     "name": "stdout",
     "output_type": "stream",
     "text": [
      "Computing moments of W12\n",
      "Computing 0th order moment... Done!\n",
      "Computing 2nd order moments\n"
     ]
    },
    {
     "data": {
      "application/vnd.jupyter.widget-view+json": {
       "model_id": "220b9ff514814fe381823daa5d9517aa",
       "version_major": 2,
       "version_minor": 0
      },
      "text/plain": [
       "  0%|          | 0/6.0 [00:00<?, ?it/s]"
      ]
     },
     "metadata": {},
     "output_type": "display_data"
    },
    {
     "name": "stderr",
     "output_type": "stream",
     "text": [
      "\n",
      "KeyboardInterrupt\n",
      "\n"
     ]
    }
   ],
   "source": [
    "from nbodykit.source.catalog import CSVCatalog\n",
    "from nbodykit.lab import cosmology, transform\n",
    "import cov\n",
    "import numpy as np\n",
    "from tqdm.notebook import tqdm\n",
    "\n",
    "cosmo = cosmology.Cosmology(h=0.7).match(Omega0_m=0.31)\n",
    "\n",
    "# Let's use a 10x random catalog to make things faster for now\n",
    "\n",
    "# From: https://data.sdss.org/sas/dr12/boss/lss/dr12_multidark_patchy_mocks/Patchy-Mocks-Randoms-DR12NGC-COMPSAM_V6C_x10.tar.gz\n",
    "# Columns described in: http://skiesanduniverses.org/Products/MockCatalogues/SDSS/BOSSLRGDR12MDP/\n",
    "randoms = CSVCatalog('/home/oalves/desi/analytical_covariance/survey_geometry/data/Patchy-Mocks-Randoms-DR12NGC-COMPSAM_V6C_x10.dat',\n",
    "                     names=['RA', 'DEC', 'Z', 'NZ', 'BIAS', 'VETO FLAG', 'Weight'],\n",
    "                     delim_whitespace=True)\n",
    "\n",
    "randoms = randoms[randoms['VETO FLAG'] > 0]\n",
    "randoms = randoms[(randoms['Z'] > 0.5) * (randoms['Z'] < 0.75)]\n",
    "\n",
    "randoms['WEIGHT_FKP'] = 1./(1. + 1e4*randoms['NZ'])\n",
    "\n",
    "randoms['Position'] = transform.SkyToCartesian(\n",
    "    randoms['RA'], randoms['DEC'], randoms['Z'], degrees=True, cosmo=cosmo)\n",
    "\n",
    "c = cov.GaussianSurveyWindowCovariance()\n",
    "c.set_randoms(randoms, 48, 3750, 1/10)\n",
    "c.compute_cartesian_ffts(tqdm=tqdm)\n",
    "# c.save_cartesian_ffts('./cartesian_ffts.npz')"
   ]
  },
  {
   "cell_type": "code",
   "execution_count": 22,
   "id": "fc402552-6666-4f33-a276-6554e48f5ac6",
   "metadata": {
    "collapsed": true,
    "jupyter": {
     "outputs_hidden": true
    },
    "tags": []
   },
   "outputs": [
    {
     "data": {
      "application/vnd.jupyter.widget-view+json": {
       "model_id": "50ed6047fa064f398f5f30a3612443f4",
       "version_major": 2,
       "version_minor": 0
      },
      "text/plain": [
       "Sorting k-modes in shells:   0%|          | 0/50 [00:00<?, ?it/s]"
      ]
     },
     "metadata": {},
     "output_type": "display_data"
    },
    {
     "data": {
      "application/vnd.jupyter.widget-view+json": {
       "model_id": "5b38561cc1564e48a809c34a97e7a083",
       "version_major": 2,
       "version_minor": 0
      },
      "text/plain": [
       "Computing window kernels:   0%|          | 0/50 [00:00<?, ?it/s]"
      ]
     },
     "metadata": {},
     "output_type": "display_data"
    },
    {
     "data": {
      "application/vnd.jupyter.widget-view+json": {
       "model_id": "",
       "version_major": 2,
       "version_minor": 0
      },
      "text/plain": [
       "Row 0:   0%|          | 0/93 [00:00<?, ?it/s]"
      ]
     },
     "metadata": {},
     "output_type": "display_data"
    },
    {
     "data": {
      "application/vnd.jupyter.widget-view+json": {
       "model_id": "",
       "version_major": 2,
       "version_minor": 0
      },
      "text/plain": [
       "Row 1:   0%|          | 0/250 [00:00<?, ?it/s]"
      ]
     },
     "metadata": {},
     "output_type": "display_data"
    },
    {
     "data": {
      "application/vnd.jupyter.widget-view+json": {
       "model_id": "",
       "version_major": 2,
       "version_minor": 0
      },
      "text/plain": [
       "Row 2:   0%|          | 0/250 [00:00<?, ?it/s]"
      ]
     },
     "metadata": {},
     "output_type": "display_data"
    },
    {
     "data": {
      "application/vnd.jupyter.widget-view+json": {
       "model_id": "",
       "version_major": 2,
       "version_minor": 0
      },
      "text/plain": [
       "Row 3:   0%|          | 0/250 [00:00<?, ?it/s]"
      ]
     },
     "metadata": {},
     "output_type": "display_data"
    },
    {
     "data": {
      "application/vnd.jupyter.widget-view+json": {
       "model_id": "",
       "version_major": 2,
       "version_minor": 0
      },
      "text/plain": [
       "Row 4:   0%|          | 0/250 [00:00<?, ?it/s]"
      ]
     },
     "metadata": {},
     "output_type": "display_data"
    },
    {
     "data": {
      "application/vnd.jupyter.widget-view+json": {
       "model_id": "",
       "version_major": 2,
       "version_minor": 0
      },
      "text/plain": [
       "Row 5:   0%|          | 0/250 [00:00<?, ?it/s]"
      ]
     },
     "metadata": {},
     "output_type": "display_data"
    },
    {
     "data": {
      "application/vnd.jupyter.widget-view+json": {
       "model_id": "",
       "version_major": 2,
       "version_minor": 0
      },
      "text/plain": [
       "Row 6:   0%|          | 0/250 [00:00<?, ?it/s]"
      ]
     },
     "metadata": {},
     "output_type": "display_data"
    },
    {
     "data": {
      "application/vnd.jupyter.widget-view+json": {
       "model_id": "",
       "version_major": 2,
       "version_minor": 0
      },
      "text/plain": [
       "Row 7:   0%|          | 0/250 [00:00<?, ?it/s]"
      ]
     },
     "metadata": {},
     "output_type": "display_data"
    },
    {
     "data": {
      "application/vnd.jupyter.widget-view+json": {
       "model_id": "",
       "version_major": 2,
       "version_minor": 0
      },
      "text/plain": [
       "Row 8:   0%|          | 0/250 [00:00<?, ?it/s]"
      ]
     },
     "metadata": {},
     "output_type": "display_data"
    },
    {
     "data": {
      "application/vnd.jupyter.widget-view+json": {
       "model_id": "",
       "version_major": 2,
       "version_minor": 0
      },
      "text/plain": [
       "Row 9:   0%|          | 0/250 [00:00<?, ?it/s]"
      ]
     },
     "metadata": {},
     "output_type": "display_data"
    },
    {
     "data": {
      "application/vnd.jupyter.widget-view+json": {
       "model_id": "",
       "version_major": 2,
       "version_minor": 0
      },
      "text/plain": [
       "Row 10:   0%|          | 0/250 [00:00<?, ?it/s]"
      ]
     },
     "metadata": {},
     "output_type": "display_data"
    },
    {
     "data": {
      "application/vnd.jupyter.widget-view+json": {
       "model_id": "",
       "version_major": 2,
       "version_minor": 0
      },
      "text/plain": [
       "Row 11:   0%|          | 0/250 [00:00<?, ?it/s]"
      ]
     },
     "metadata": {},
     "output_type": "display_data"
    },
    {
     "data": {
      "application/vnd.jupyter.widget-view+json": {
       "model_id": "",
       "version_major": 2,
       "version_minor": 0
      },
      "text/plain": [
       "Row 12:   0%|          | 0/250 [00:00<?, ?it/s]"
      ]
     },
     "metadata": {},
     "output_type": "display_data"
    },
    {
     "data": {
      "application/vnd.jupyter.widget-view+json": {
       "model_id": "",
       "version_major": 2,
       "version_minor": 0
      },
      "text/plain": [
       "Row 13:   0%|          | 0/250 [00:00<?, ?it/s]"
      ]
     },
     "metadata": {},
     "output_type": "display_data"
    },
    {
     "data": {
      "application/vnd.jupyter.widget-view+json": {
       "model_id": "",
       "version_major": 2,
       "version_minor": 0
      },
      "text/plain": [
       "Row 14:   0%|          | 0/250 [00:00<?, ?it/s]"
      ]
     },
     "metadata": {},
     "output_type": "display_data"
    },
    {
     "data": {
      "application/vnd.jupyter.widget-view+json": {
       "model_id": "",
       "version_major": 2,
       "version_minor": 0
      },
      "text/plain": [
       "Row 15:   0%|          | 0/250 [00:00<?, ?it/s]"
      ]
     },
     "metadata": {},
     "output_type": "display_data"
    },
    {
     "data": {
      "application/vnd.jupyter.widget-view+json": {
       "model_id": "",
       "version_major": 2,
       "version_minor": 0
      },
      "text/plain": [
       "Row 16:   0%|          | 0/250 [00:00<?, ?it/s]"
      ]
     },
     "metadata": {},
     "output_type": "display_data"
    },
    {
     "data": {
      "application/vnd.jupyter.widget-view+json": {
       "model_id": "",
       "version_major": 2,
       "version_minor": 0
      },
      "text/plain": [
       "Row 17:   0%|          | 0/250 [00:00<?, ?it/s]"
      ]
     },
     "metadata": {},
     "output_type": "display_data"
    },
    {
     "data": {
      "application/vnd.jupyter.widget-view+json": {
       "model_id": "",
       "version_major": 2,
       "version_minor": 0
      },
      "text/plain": [
       "Row 18:   0%|          | 0/250 [00:00<?, ?it/s]"
      ]
     },
     "metadata": {},
     "output_type": "display_data"
    },
    {
     "data": {
      "application/vnd.jupyter.widget-view+json": {
       "model_id": "",
       "version_major": 2,
       "version_minor": 0
      },
      "text/plain": [
       "Row 19:   0%|          | 0/250 [00:00<?, ?it/s]"
      ]
     },
     "metadata": {},
     "output_type": "display_data"
    },
    {
     "data": {
      "application/vnd.jupyter.widget-view+json": {
       "model_id": "",
       "version_major": 2,
       "version_minor": 0
      },
      "text/plain": [
       "Row 20:   0%|          | 0/250 [00:00<?, ?it/s]"
      ]
     },
     "metadata": {},
     "output_type": "display_data"
    },
    {
     "data": {
      "application/vnd.jupyter.widget-view+json": {
       "model_id": "",
       "version_major": 2,
       "version_minor": 0
      },
      "text/plain": [
       "Row 21:   0%|          | 0/250 [00:00<?, ?it/s]"
      ]
     },
     "metadata": {},
     "output_type": "display_data"
    },
    {
     "data": {
      "application/vnd.jupyter.widget-view+json": {
       "model_id": "",
       "version_major": 2,
       "version_minor": 0
      },
      "text/plain": [
       "Row 22:   0%|          | 0/250 [00:00<?, ?it/s]"
      ]
     },
     "metadata": {},
     "output_type": "display_data"
    },
    {
     "data": {
      "application/vnd.jupyter.widget-view+json": {
       "model_id": "",
       "version_major": 2,
       "version_minor": 0
      },
      "text/plain": [
       "Row 23:   0%|          | 0/250 [00:00<?, ?it/s]"
      ]
     },
     "metadata": {},
     "output_type": "display_data"
    },
    {
     "data": {
      "application/vnd.jupyter.widget-view+json": {
       "model_id": "",
       "version_major": 2,
       "version_minor": 0
      },
      "text/plain": [
       "Row 24:   0%|          | 0/250 [00:00<?, ?it/s]"
      ]
     },
     "metadata": {},
     "output_type": "display_data"
    },
    {
     "data": {
      "application/vnd.jupyter.widget-view+json": {
       "model_id": "",
       "version_major": 2,
       "version_minor": 0
      },
      "text/plain": [
       "Row 25:   0%|          | 0/250 [00:00<?, ?it/s]"
      ]
     },
     "metadata": {},
     "output_type": "display_data"
    },
    {
     "data": {
      "application/vnd.jupyter.widget-view+json": {
       "model_id": "",
       "version_major": 2,
       "version_minor": 0
      },
      "text/plain": [
       "Row 26:   0%|          | 0/250 [00:00<?, ?it/s]"
      ]
     },
     "metadata": {},
     "output_type": "display_data"
    },
    {
     "data": {
      "application/vnd.jupyter.widget-view+json": {
       "model_id": "",
       "version_major": 2,
       "version_minor": 0
      },
      "text/plain": [
       "Row 27:   0%|          | 0/250 [00:00<?, ?it/s]"
      ]
     },
     "metadata": {},
     "output_type": "display_data"
    },
    {
     "data": {
      "application/vnd.jupyter.widget-view+json": {
       "model_id": "",
       "version_major": 2,
       "version_minor": 0
      },
      "text/plain": [
       "Row 28:   0%|          | 0/250 [00:00<?, ?it/s]"
      ]
     },
     "metadata": {},
     "output_type": "display_data"
    },
    {
     "data": {
      "application/vnd.jupyter.widget-view+json": {
       "model_id": "",
       "version_major": 2,
       "version_minor": 0
      },
      "text/plain": [
       "Row 29:   0%|          | 0/250 [00:00<?, ?it/s]"
      ]
     },
     "metadata": {},
     "output_type": "display_data"
    },
    {
     "data": {
      "application/vnd.jupyter.widget-view+json": {
       "model_id": "",
       "version_major": 2,
       "version_minor": 0
      },
      "text/plain": [
       "Row 30:   0%|          | 0/250 [00:00<?, ?it/s]"
      ]
     },
     "metadata": {},
     "output_type": "display_data"
    },
    {
     "data": {
      "application/vnd.jupyter.widget-view+json": {
       "model_id": "",
       "version_major": 2,
       "version_minor": 0
      },
      "text/plain": [
       "Row 31:   0%|          | 0/250 [00:00<?, ?it/s]"
      ]
     },
     "metadata": {},
     "output_type": "display_data"
    },
    {
     "data": {
      "application/vnd.jupyter.widget-view+json": {
       "model_id": "",
       "version_major": 2,
       "version_minor": 0
      },
      "text/plain": [
       "Row 32:   0%|          | 0/250 [00:00<?, ?it/s]"
      ]
     },
     "metadata": {},
     "output_type": "display_data"
    },
    {
     "data": {
      "application/vnd.jupyter.widget-view+json": {
       "model_id": "",
       "version_major": 2,
       "version_minor": 0
      },
      "text/plain": [
       "Row 33:   0%|          | 0/250 [00:00<?, ?it/s]"
      ]
     },
     "metadata": {},
     "output_type": "display_data"
    },
    {
     "data": {
      "application/vnd.jupyter.widget-view+json": {
       "model_id": "",
       "version_major": 2,
       "version_minor": 0
      },
      "text/plain": [
       "Row 34:   0%|          | 0/250 [00:00<?, ?it/s]"
      ]
     },
     "metadata": {},
     "output_type": "display_data"
    },
    {
     "data": {
      "application/vnd.jupyter.widget-view+json": {
       "model_id": "",
       "version_major": 2,
       "version_minor": 0
      },
      "text/plain": [
       "Row 35:   0%|          | 0/250 [00:00<?, ?it/s]"
      ]
     },
     "metadata": {},
     "output_type": "display_data"
    },
    {
     "data": {
      "application/vnd.jupyter.widget-view+json": {
       "model_id": "",
       "version_major": 2,
       "version_minor": 0
      },
      "text/plain": [
       "Row 36:   0%|          | 0/250 [00:00<?, ?it/s]"
      ]
     },
     "metadata": {},
     "output_type": "display_data"
    },
    {
     "data": {
      "application/vnd.jupyter.widget-view+json": {
       "model_id": "",
       "version_major": 2,
       "version_minor": 0
      },
      "text/plain": [
       "Row 37:   0%|          | 0/250 [00:00<?, ?it/s]"
      ]
     },
     "metadata": {},
     "output_type": "display_data"
    },
    {
     "data": {
      "application/vnd.jupyter.widget-view+json": {
       "model_id": "",
       "version_major": 2,
       "version_minor": 0
      },
      "text/plain": [
       "Row 38:   0%|          | 0/250 [00:00<?, ?it/s]"
      ]
     },
     "metadata": {},
     "output_type": "display_data"
    },
    {
     "data": {
      "application/vnd.jupyter.widget-view+json": {
       "model_id": "",
       "version_major": 2,
       "version_minor": 0
      },
      "text/plain": [
       "Row 39:   0%|          | 0/250 [00:00<?, ?it/s]"
      ]
     },
     "metadata": {},
     "output_type": "display_data"
    },
    {
     "data": {
      "application/vnd.jupyter.widget-view+json": {
       "model_id": "",
       "version_major": 2,
       "version_minor": 0
      },
      "text/plain": [
       "Row 40:   0%|          | 0/250 [00:00<?, ?it/s]"
      ]
     },
     "metadata": {},
     "output_type": "display_data"
    },
    {
     "data": {
      "application/vnd.jupyter.widget-view+json": {
       "model_id": "",
       "version_major": 2,
       "version_minor": 0
      },
      "text/plain": [
       "Row 41:   0%|          | 0/250 [00:00<?, ?it/s]"
      ]
     },
     "metadata": {},
     "output_type": "display_data"
    },
    {
     "data": {
      "application/vnd.jupyter.widget-view+json": {
       "model_id": "",
       "version_major": 2,
       "version_minor": 0
      },
      "text/plain": [
       "Row 42:   0%|          | 0/250 [00:00<?, ?it/s]"
      ]
     },
     "metadata": {},
     "output_type": "display_data"
    },
    {
     "data": {
      "application/vnd.jupyter.widget-view+json": {
       "model_id": "",
       "version_major": 2,
       "version_minor": 0
      },
      "text/plain": [
       "Row 43:   0%|          | 0/250 [00:00<?, ?it/s]"
      ]
     },
     "metadata": {},
     "output_type": "display_data"
    },
    {
     "data": {
      "application/vnd.jupyter.widget-view+json": {
       "model_id": "",
       "version_major": 2,
       "version_minor": 0
      },
      "text/plain": [
       "Row 44:   0%|          | 0/250 [00:00<?, ?it/s]"
      ]
     },
     "metadata": {},
     "output_type": "display_data"
    },
    {
     "data": {
      "application/vnd.jupyter.widget-view+json": {
       "model_id": "",
       "version_major": 2,
       "version_minor": 0
      },
      "text/plain": [
       "Row 45:   0%|          | 0/250 [00:00<?, ?it/s]"
      ]
     },
     "metadata": {},
     "output_type": "display_data"
    },
    {
     "data": {
      "application/vnd.jupyter.widget-view+json": {
       "model_id": "",
       "version_major": 2,
       "version_minor": 0
      },
      "text/plain": [
       "Row 46:   0%|          | 0/250 [00:00<?, ?it/s]"
      ]
     },
     "metadata": {},
     "output_type": "display_data"
    },
    {
     "data": {
      "application/vnd.jupyter.widget-view+json": {
       "model_id": "",
       "version_major": 2,
       "version_minor": 0
      },
      "text/plain": [
       "Row 47:   0%|          | 0/250 [00:00<?, ?it/s]"
      ]
     },
     "metadata": {},
     "output_type": "display_data"
    },
    {
     "data": {
      "application/vnd.jupyter.widget-view+json": {
       "model_id": "",
       "version_major": 2,
       "version_minor": 0
      },
      "text/plain": [
       "Row 48:   0%|          | 0/250 [00:00<?, ?it/s]"
      ]
     },
     "metadata": {},
     "output_type": "display_data"
    },
    {
     "data": {
      "application/vnd.jupyter.widget-view+json": {
       "model_id": "",
       "version_major": 2,
       "version_minor": 0
      },
      "text/plain": [
       "Row 49:   0%|          | 0/250 [00:00<?, ?it/s]"
      ]
     },
     "metadata": {},
     "output_type": "display_data"
    }
   ],
   "source": [
    "c = cov.GaussianSurveyWindowCovariance()\n",
    "c.load_cartesian_ffts('./cartesian_ffts.npz')\n",
    "c.set_kbins(0., 0.25, 0.005)\n",
    "c.compute_window_kernels(kmodes_sampled=250, icut=15, tqdm=tqdm)"
   ]
  },
  {
   "cell_type": "code",
   "execution_count": 24,
   "id": "fc30c9e7-ea38-4db8-b071-dd1c89a0e170",
   "metadata": {},
   "outputs": [],
   "source": [
    "k, P0, P2, P4 = np.loadtxt('../postrec/unit/multipoles/RecAni_dk005/UNIELG-b0s15rsd0g1536postmultipoles.txt', unpack=True)\n",
    "\n",
    "c.load_multipole(k, P0, 0)\n",
    "c.load_multipole(k, P2, 2)\n",
    "c.load_multipole(k, P4, 4)\n",
    "\n",
    "c.compute_covariance()"
   ]
  },
  {
   "cell_type": "code",
   "execution_count": 52,
   "id": "177954ee-f0a3-4ee9-9d08-1316483ea546",
   "metadata": {
    "tags": []
   },
   "outputs": [],
   "source": [
    "import cov\n",
    "import numpy as np\n",
    "\n",
    "c = cov.GaussianSurveyWindowCovariance()\n",
    "\n",
    "c.load_cartesian_ffts('./cartesian_ffts.npz')\n",
    "c.load_window_kernels('./winkernels.npz')\n",
    "\n",
    "k  = np.loadtxt('../drive/k_Patchy.dat')\n",
    "P0 = np.loadtxt('../drive/P0_fit_Patchy.dat')\n",
    "P2 = np.loadtxt('../drive/P0_fit_Patchy.dat')\n",
    "P4 = np.loadtxt('../drive/P0_fit_Patchy.dat')\n",
    "\n",
    "# k, P0, P2, P4 = np.loadtxt('../postrec/unit/multipoles/RecAni_dk005/UNIELG-b0s15rsd0g1536postmultipoles.txt', unpack=True)\n",
    "\n",
    "c.load_multipole(k, P0, 0)\n",
    "c.load_multipole(k, P2, 2)\n",
    "c.load_multipole(k, P4, 4)\n",
    "\n",
    "c.set_kbins(0., 0.25, 0.005)\n",
    "\n",
    "c.compute_covariance()"
   ]
  },
  {
   "cell_type": "code",
   "execution_count": 42,
   "id": "a24791a2-0318-4bcf-ae71-f2524a3285d4",
   "metadata": {},
   "outputs": [],
   "source": [
    "c.I['22'] = 874.224835580588"
   ]
  },
  {
   "cell_type": "code",
   "execution_count": 44,
   "id": "5b9d4017-3493-4c51-877f-2133c1361fd1",
   "metadata": {},
   "outputs": [
    {
     "data": {
      "text/plain": [
       "<matplotlib.image.AxesImage at 0x7fb14795f1f0>"
      ]
     },
     "execution_count": 44,
     "metadata": {},
     "output_type": "execute_result"
    },
    {
     "data": {
      "image/png": "[encoded data removed]",
      "text/plain": [
       "<Figure size 432x288 with 1 Axes>"
      ]
     },
     "metadata": {
      "needs_background": "light"
     },
     "output_type": "display_data"
    }
   ],
   "source": [
    "icut=15\n",
    "cutW = lambda W: W[W.shape[0]//2-icut-1 : W.shape[0]//2+icut,\n",
    "                   W.shape[1]//2-icut-1 : W.shape[1]//2+icut,\n",
    "                   W.shape[2]//2-icut-1 : W.shape[2]//2+icut]\n",
    "\n",
    "Wcut = {key: cutW(c.W[key]) for key in c.W.keys()}\n",
    "\n",
    "plot.imshow(np.real(Wcut['22'][15,:,:]))"
   ]
  },
  {
   "cell_type": "code",
   "execution_count": 12,
   "id": "febd25d8-f58c-4277-b032-c2a947fc2681",
   "metadata": {},
   "outputs": [
    {
     "data": {
      "text/plain": [
       "0.6159811019897461"
      ]
     },
     "execution_count": 12,
     "metadata": {},
     "output_type": "execute_result"
    }
   ],
   "source": []
  },
  {
   "cell_type": "code",
   "execution_count": 45,
   "id": "5ba78907-fc47-40f4-91e1-3fffc9ff42ca",
   "metadata": {},
   "outputs": [
    {
     "data": {
      "text/plain": [
       "<matplotlib.image.AxesImage at 0x7fb1479ca290>"
      ]
     },
     "execution_count": 45,
     "metadata": {},
     "output_type": "execute_result"
    },
    {
     "data": {
      "image/png": "[encoded data removed]",
      "text/plain": [
       "<Figure size 500x500 with 1 Axes>"
      ]
     },
     "metadata": {
      "needs_background": "light"
     },
     "output_type": "display_data"
    }
   ],
   "source": [
    "import matplotlib.pyplot as plot\n",
    "from   matplotlib.colors import LinearSegmentedColormap\n",
    "cmap = LinearSegmentedColormap.from_list(\"cmap_name\", ['#04f', '#fff', '#f30'])\n",
    "\n",
    "plot.figure(figsize=(5,5), dpi=100)\n",
    "plot.imshow(c.correlation, origin='lower', vmin=-1, vmax=1, cmap=cmap)"
   ]
  },
  {
   "cell_type": "code",
   "execution_count": 47,
   "id": "961230b9-c7a9-4d24-bc49-b7dfe33fa6e1",
   "metadata": {},
   "outputs": [
    {
     "data": {
      "text/plain": [
       "<matplotlib.image.AxesImage at 0x7fb147634940>"
      ]
     },
     "execution_count": 47,
     "metadata": {},
     "output_type": "execute_result"
    },
    {
     "data": {
      "image/png": "[encoded data removed]",
      "text/plain": [
       "<Figure size 500x500 with 1 Axes>"
      ]
     },
     "metadata": {
      "needs_background": "light"
     },
     "output_type": "display_data"
    }
   ],
   "source": [
    "import matplotlib.pyplot as plot\n",
    "from   matplotlib.colors import LinearSegmentedColormap\n",
    "cmap = LinearSegmentedColormap.from_list(\"cmap_name\", ['#04f', '#fff', '#f30'])\n",
    "\n",
    "plot.figure(figsize=(5,5), dpi=100)\n",
    "mockcov = np.loadtxt('../drive/Patchy_CovarianceMatrix.dat')\n",
    "mockcor = cov.BaseCovariance.cov2corr(mockcov)\n",
    "plot.imshow(mockcor, origin='lower', vmin=-1, vmax=1, cmap=cmap)"
   ]
  },
  {
   "cell_type": "code",
   "execution_count": 53,
   "id": "08f28825-fc5a-4ba8-9692-8e93d1f4bb7f",
   "metadata": {},
   "outputs": [
    {
     "data": {
      "text/plain": [
       "[<matplotlib.lines.Line2D at 0x7fb1473978e0>]"
      ]
     },
     "execution_count": 53,
     "metadata": {},
     "output_type": "execute_result"
    },
    {
     "data": {
      "image/png": "[encoded data removed]",
      "text/plain": [
       "<Figure size 432x288 with 1 Axes>"
      ]
     },
     "metadata": {
      "needs_background": "light"
     },
     "output_type": "display_data"
    }
   ],
   "source": [
    "plot.semilogy(c._k, (c.I['22']/874.224835580588)**2*np.diag(c.covariance)[:len(c._k)]/c._P[0](c._k)**2)\n",
    "plot.semilogy(c._k, np.diag(mockcov)[:len(c._k)]/c._P[0](c._k)**2)"
   ]
  },
  {
   "cell_type": "code",
   "execution_count": 56,
   "id": "40e4872d-ddb2-4c41-b823-bab8cb1f35e0",
   "metadata": {},
   "outputs": [
    {
     "name": "stdout",
     "output_type": "stream",
     "text": [
      "FFT size is 48\n"
     ]
    }
   ],
   "source": [
    "from scipy.io import FortranFile\n",
    "import numpy as np\n",
    "\n",
    "# Total number of k-bins in power spectrum\n",
    "nBins=50\n",
    "kBinWidth=0.005\n",
    "# Length of box used when computing FFTs\n",
    "Lbox=3750.\n",
    "# Fundamental k-mode\n",
    "kfun=2.*np.pi/Lbox\n",
    "kbinEdges=np.arange(nBins+1)*kBinWidth\n",
    "\n",
    "I22=874.224835580588 # Eq.3\n",
    "\n",
    "dire='/home/oalves/desi/analytical_covariance/drive/'\n",
    "\n",
    "# First rewriting the FFT array so that the zero mode is at the center (negative k to left of it and positive to right)\n",
    "# This is done so that dot products of the FFTs with k-hat can be conveniently taken later \n",
    "\n",
    "# As the window falls steeply with k, only low-k regions are needed for the calculation.\n",
    "# Therefore cutting out the high-k modes in the FFTs using the icut parameter\n",
    "icut=15; # needs to be less than Lm//2 (Lm: size of FFT)\n",
    "\n",
    "def fft(temp):\n",
    "    ia=Lm//2-1; ib=Lm//2+1\n",
    "    temp2=np.zeros((Lm,Lm,Lm),dtype='<c8')\n",
    "    temp2[ia:Lm,ia:Lm,ia:Lm]=temp[0:ib,0:ib,0:ib]; temp2[0:ia,ia:Lm,ia:Lm]=temp[ib:Lm,0:ib,0:ib]\n",
    "    temp2[ia:Lm,0:ia,ia:Lm]=temp[0:ib,ib:Lm,0:ib]; temp2[ia:Lm,ia:Lm,0:ia]=temp[0:ib,0:ib,ib:Lm]\n",
    "    temp2[0:ia,0:ia,ia:Lm]=temp[ib:Lm,ib:Lm,0:ib]; temp2[0:ia,ia:Lm,0:ia]=temp[ib:Lm,0:ib,ib:Lm]\n",
    "    temp2[ia:Lm,0:ia,0:ia]=temp[0:ib,ib:Lm,ib:Lm]; temp2[0:ia,0:ia,0:ia]=temp[ib:Lm,ib:Lm,ib:Lm]\n",
    "    \n",
    "    temp2=temp2[ia-icut:ia+icut+1,ia-icut:ia+icut+1,ia-icut:ia+icut+1]\n",
    "    \n",
    "    if(W22_flag): return(temp2)\n",
    "    else: return(np.conj(temp2))\n",
    "\n",
    "# Reading the FFT files for W22 (referred to as W for brevity)\n",
    "# Wc refers to conjugate of W\n",
    "f = FortranFile(dire+'FFTWinFun_HighZ_W22_NGC', 'r')\n",
    "Lm=f.read_record('<i4'); Lm=Lm[0]; #Lm: size of FFT\n",
    "print('FFT size is',Lm)\n",
    "W22_flag=1\n",
    "W=fft(f.read_record('('+str(Lm)+','+str(Lm)+','+str(Lm)+')<c8').T)\n",
    "Wxx=fft(f.read_record('('+str(Lm)+','+str(Lm)+','+str(Lm)+')<c8').T)\n",
    "Wyy=fft(f.read_record('('+str(Lm)+','+str(Lm)+','+str(Lm)+')<c8').T)\n",
    "Wzz=fft(f.read_record('('+str(Lm)+','+str(Lm)+','+str(Lm)+')<c8').T)\n",
    "Wxy=fft(f.read_record('('+str(Lm)+','+str(Lm)+','+str(Lm)+')<c8').T)\n",
    "Wyz=fft(f.read_record('('+str(Lm)+','+str(Lm)+','+str(Lm)+')<c8').T)\n",
    "Wzx=fft(f.read_record('('+str(Lm)+','+str(Lm)+','+str(Lm)+')<c8').T)\n",
    "Wxxxx=fft(f.read_record('('+str(Lm)+','+str(Lm)+','+str(Lm)+')<c8').T)\n",
    "Wyyyy=fft(f.read_record('('+str(Lm)+','+str(Lm)+','+str(Lm)+')<c8').T)\n",
    "Wzzzz=fft(f.read_record('('+str(Lm)+','+str(Lm)+','+str(Lm)+')<c8').T)\n",
    "Wxxxy=fft(f.read_record('('+str(Lm)+','+str(Lm)+','+str(Lm)+')<c8').T)\n",
    "Wxxxz=fft(f.read_record('('+str(Lm)+','+str(Lm)+','+str(Lm)+')<c8').T)\n",
    "Wyyyx=fft(f.read_record('('+str(Lm)+','+str(Lm)+','+str(Lm)+')<c8').T)\n",
    "Wyyyz=fft(f.read_record('('+str(Lm)+','+str(Lm)+','+str(Lm)+')<c8').T)\n",
    "Wzzzx=fft(f.read_record('('+str(Lm)+','+str(Lm)+','+str(Lm)+')<c8').T)\n",
    "Wzzzy=fft(f.read_record('('+str(Lm)+','+str(Lm)+','+str(Lm)+')<c8').T)\n",
    "Wxxyy=fft(f.read_record('('+str(Lm)+','+str(Lm)+','+str(Lm)+')<c8').T)\n",
    "Wxxzz=fft(f.read_record('('+str(Lm)+','+str(Lm)+','+str(Lm)+')<c8').T)\n",
    "Wyyzz=fft(f.read_record('('+str(Lm)+','+str(Lm)+','+str(Lm)+')<c8').T)\n",
    "Wxxyz=fft(f.read_record('('+str(Lm)+','+str(Lm)+','+str(Lm)+')<c8').T)\n",
    "Wyyxz=fft(f.read_record('('+str(Lm)+','+str(Lm)+','+str(Lm)+')<c8').T)\n",
    "Wzzxy=fft(f.read_record('('+str(Lm)+','+str(Lm)+','+str(Lm)+')<c8').T)\n",
    "\n",
    "# For W12 instead of W22 above\n",
    "f = FortranFile(dire+'FFTWinFun_HighZ_W12_NGC', 'r')\n",
    "Lm=f.read_record('<i4'); Lm=Lm[0];\n",
    "W22_flag=0\n",
    "W12=fft(f.read_record('('+str(Lm)+','+str(Lm)+','+str(Lm)+')<c8').T)\n",
    "W12xx=fft(f.read_record('('+str(Lm)+','+str(Lm)+','+str(Lm)+')<c8').T)\n",
    "W12yy=fft(f.read_record('('+str(Lm)+','+str(Lm)+','+str(Lm)+')<c8').T)\n",
    "W12zz=fft(f.read_record('('+str(Lm)+','+str(Lm)+','+str(Lm)+')<c8').T)\n",
    "W12xy=fft(f.read_record('('+str(Lm)+','+str(Lm)+','+str(Lm)+')<c8').T)\n",
    "W12yz=fft(f.read_record('('+str(Lm)+','+str(Lm)+','+str(Lm)+')<c8').T)\n",
    "W12zx=fft(f.read_record('('+str(Lm)+','+str(Lm)+','+str(Lm)+')<c8').T)\n",
    "W12xxxx=fft(f.read_record('('+str(Lm)+','+str(Lm)+','+str(Lm)+')<c8').T)\n",
    "W12yyyy=fft(f.read_record('('+str(Lm)+','+str(Lm)+','+str(Lm)+')<c8').T)\n",
    "W12zzzz=fft(f.read_record('('+str(Lm)+','+str(Lm)+','+str(Lm)+')<c8').T)\n",
    "W12xxxy=fft(f.read_record('('+str(Lm)+','+str(Lm)+','+str(Lm)+')<c8').T)\n",
    "W12xxxz=fft(f.read_record('('+str(Lm)+','+str(Lm)+','+str(Lm)+')<c8').T)\n",
    "W12yyyx=fft(f.read_record('('+str(Lm)+','+str(Lm)+','+str(Lm)+')<c8').T)\n",
    "W12yyyz=fft(f.read_record('('+str(Lm)+','+str(Lm)+','+str(Lm)+')<c8').T)\n",
    "W12zzzx=fft(f.read_record('('+str(Lm)+','+str(Lm)+','+str(Lm)+')<c8').T)\n",
    "W12zzzy=fft(f.read_record('('+str(Lm)+','+str(Lm)+','+str(Lm)+')<c8').T)\n",
    "W12xxyy=fft(f.read_record('('+str(Lm)+','+str(Lm)+','+str(Lm)+')<c8').T)\n",
    "W12xxzz=fft(f.read_record('('+str(Lm)+','+str(Lm)+','+str(Lm)+')<c8').T)\n",
    "W12yyzz=fft(f.read_record('('+str(Lm)+','+str(Lm)+','+str(Lm)+')<c8').T)\n",
    "W12xxyz=fft(f.read_record('('+str(Lm)+','+str(Lm)+','+str(Lm)+')<c8').T)\n",
    "W12yyxz=fft(f.read_record('('+str(Lm)+','+str(Lm)+','+str(Lm)+')<c8').T)\n",
    "W12zzxy=fft(f.read_record('('+str(Lm)+','+str(Lm)+','+str(Lm)+')<c8').T)"
   ]
  },
  {
   "cell_type": "code",
   "execution_count": 60,
   "id": "01ccdb42-f6ee-48bf-a0c0-20f85d324f8f",
   "metadata": {},
   "outputs": [],
   "source": [
    "# Recording the k-modes in different shells\n",
    "# Bin_kmodes contains [kx,ky,kz,radius] values of all the modes in the bin\n",
    "\n",
    "Lm2 = int(kBinWidth*nBins/kfun)+1\n",
    "[ix,iy,iz] = np.zeros((3,2*Lm2+1,2*Lm2+1,2*Lm2+1));\n",
    "Bin_kmodes=[]; Bin_ModeNum=np.zeros(nBins,dtype=int)\n",
    "\n",
    "for i in range(nBins): Bin_kmodes.append([])\n",
    "for i in range(len(ix)):\n",
    "    ix[i,:,:]+=i-Lm2; iy[:,i,:]+=i-Lm2; iz[:,:,i]+=i-Lm2\n",
    "\n",
    "rk=np.sqrt(ix**2+iy**2+iz**2)\n",
    "sort=(rk*kfun/kBinWidth).astype(int)\n",
    "\n",
    "for i in range(0,nBins):\n",
    "    ind=(sort==i); Bin_ModeNum[i]=len(ix[ind]); \\\n",
    "    Bin_kmodes[i]=np.hstack((ix[ind].reshape(-1,1),iy[ind].reshape(-1,1),iz[ind].reshape(-1,1),rk[ind].reshape(-1,1)))\n",
    "    \n",
    "# Gives window kernels for L=0,2,4 auto and cross covariance (instead of only L=0 above)\n",
    "\n",
    "# Returns an array with [7,15,6] dimensions. \n",
    "#    The first dim corresponds to the k-bin of k2 \n",
    "#    (only 3 bins on each side of diagonal are included as the Gaussian covariance drops quickly away from diagonal)\n",
    "\n",
    "#    The second dim corresponds to elements to be multiplied by various power spectrum multipoles\n",
    "#    to obtain the final covariance (see function 'Cij' below)\n",
    "\n",
    "#    The last dim corresponds to multipoles: [L0xL0,L2xL2,L4xL4,L2xL0,L4xL0,L4xL2]\n",
    "\n",
    "def WinFun(Nbin):\n",
    "    avgWij=np.zeros((2*3+1,15,6)); avgW00=np.zeros((2*3+1,15),dtype='<c8');\n",
    "    avgW22=avgW00.copy(); avgW44=avgW00.copy(); avgW20=avgW00.copy(); avgW40=avgW00.copy(); avgW42=avgW00.copy()\n",
    "    [ix,iy,iz,k2xh,k2yh,k2zh]=np.zeros((6,2*icut+1,2*icut+1,2*icut+1))\n",
    "    \n",
    "    for i in range(2*icut+1): \n",
    "        ix[i,:,:]+=i-icut; iy[:,i,:]+=i-icut; iz[:,:,i]+=i-icut\n",
    "        \n",
    "    if (kmodes_sampled<Bin_ModeNum[Nbin]):\n",
    "        norm=kmodes_sampled\n",
    "        sampled=(np.random.rand(kmodes_sampled)*Bin_ModeNum[Nbin]).astype(int)\n",
    "    else:\n",
    "        norm=Bin_ModeNum[Nbin]\n",
    "        sampled=np.arange(Bin_ModeNum[Nbin],dtype=int)\n",
    "    \n",
    "    # Randomly select a mode in the k1 bin\n",
    "    for n in sampled:\n",
    "        [ik1x,ik1y,ik1z,rk1]=Bin_kmodes[Nbin][n]\n",
    "        if (rk1==0.): k1xh=0; k1yh=0; k1zh=0\n",
    "        else: k1xh=ik1x/rk1; k1yh=ik1y/rk1; k1zh=ik1z/rk1\n",
    "            \n",
    "    # Build a 3D array of modes around the selected mode   \n",
    "        k2xh=ik1x-ix; k2yh=ik1y-iy; k2zh=ik1z-iz;\n",
    "        rk2=np.sqrt(k2xh**2+k2yh**2+k2zh**2);\n",
    "        sort=(rk2*kfun/kBinWidth).astype(int)-Nbin # to decide later which shell the k2 mode belongs to\n",
    "        ind=(rk2==0);\n",
    "        if (ind.any()>0): rk2[ind]=1e10\n",
    "        k2xh/=rk2; k2yh/=rk2; k2zh/=rk2;\n",
    "        #k2 hat arrays built\n",
    "        \n",
    "    # Now calculating window multipole kernels by taking dot products of cartesian FFTs with k1-hat, k2-hat arrays\n",
    "    # W corresponds to W22(k) and Wc corresponds to conjugate of W22(k)\n",
    "    # L(i) refers to multipoles\n",
    "        \n",
    "        W_L0 = W\n",
    "        Wc_L0 = np.conj(W)\n",
    "        \n",
    "        xx=Wxx*k1xh**2+Wyy*k1yh**2+Wzz*k1zh**2+2.*Wxy*k1xh*k1yh+2.*Wyz*k1yh*k1zh+2.*Wzx*k1zh*k1xh\n",
    "        \n",
    "        W_k1L2=1.5*xx-0.5*W\n",
    "        W_k2L2=1.5*(Wxx*k2xh**2+Wyy*k2yh**2+Wzz*k2zh**2 \\\n",
    "        +2.*Wxy*k2xh*k2yh+2.*Wyz*k2yh*k2zh+2.*Wzx*k2zh*k2xh)-0.5*W\n",
    "        Wc_k1L2=np.conj(W_k1L2)\n",
    "        Wc_k2L2=np.conj(W_k2L2)\n",
    "        \n",
    "        W_k1L4=35./8.*(Wxxxx*k1xh**4 +Wyyyy*k1yh**4+Wzzzz*k1zh**4 \\\n",
    "     +4.*Wxxxy*k1xh**3*k1yh +4.*Wxxxz*k1xh**3*k1zh +4.*Wyyyx*k1yh**3*k1xh \\\n",
    "     +4.*Wyyyz*k1yh**3*k1zh +4.*Wzzzx*k1zh**3*k1xh +4.*Wzzzy*k1zh**3*k1yh \\\n",
    "     +6.*Wxxyy*k1xh**2*k1yh**2+6.*Wxxzz*k1xh**2*k1zh**2+6.*Wyyzz*k1yh**2*k1zh**2 \\\n",
    "     +12.*Wxxyz*k1xh**2*k1yh*k1zh+12.*Wyyxz*k1yh**2*k1xh*k1zh +12.*Wzzxy*k1zh**2*k1xh*k1yh) \\\n",
    "     -5./2.*W_k1L2 -7./8.*W_L0\n",
    "        Wc_k1L4=np.conj(W_k1L4)\n",
    "        \n",
    "        k1k2=Wxxxx*(k1xh*k2xh)**2+Wyyyy*(k1yh*k2yh)**2+Wzzzz*(k1zh*k2zh)**2 \\\n",
    "            +Wxxxy*(k1xh*k1yh*k2xh**2+k1xh**2*k2xh*k2yh)*2\\\n",
    "            +Wxxxz*(k1xh*k1zh*k2xh**2+k1xh**2*k2xh*k2zh)*2\\\n",
    "            +Wyyyz*(k1yh*k1zh*k2yh**2+k1yh**2*k2yh*k2zh)*2\\\n",
    "            +Wzzzy*(k1zh*k1yh*k2zh**2+k1zh**2*k2zh*k2yh)*2\\\n",
    "            +Wyyyx*(k1yh*k1xh*k2yh**2+k1yh**2*k2yh*k2xh)*2\\\n",
    "            +Wzzzx*(k1zh*k1xh*k2zh**2+k1zh**2*k2zh*k2xh)*2\\\n",
    "            +Wxxyy*(k1xh**2*k2yh**2+k1yh**2*k2xh**2+4.*k1xh*k1yh*k2xh*k2yh)\\\n",
    "            +Wxxzz*(k1xh**2*k2zh**2+k1zh**2*k2xh**2+4.*k1xh*k1zh*k2xh*k2zh)\\\n",
    "            +Wyyzz*(k1yh**2*k2zh**2+k1zh**2*k2yh**2+4.*k1yh*k1zh*k2yh*k2zh)\\\n",
    "            +Wyyxz*(k1xh*k1zh*k2yh**2+k1yh**2*k2xh*k2zh+2.*k1yh*k2yh*(k1zh*k2xh+k1xh*k2zh))*2\\\n",
    "            +Wxxyz*(k1yh*k1zh*k2xh**2+k1xh**2*k2yh*k2zh+2.*k1xh*k2xh*(k1zh*k2yh+k1yh*k2zh))*2\\\n",
    "            +Wzzxy*(k1yh*k1xh*k2zh**2+k1zh**2*k2yh*k2xh+2.*k1zh*k2zh*(k1xh*k2yh+k1yh*k2xh))*2\n",
    "        \n",
    "        W_k2L4=35./8.*(Wxxxx*k2xh**4 +Wyyyy*k2yh**4+Wzzzz*k2zh**4 \\\n",
    "     +4.*Wxxxy*k2xh**3*k2yh +4.*Wxxxz*k2xh**3*k2zh +4.*Wyyyx*k2yh**3*k2xh \\\n",
    "     +4.*Wyyyz*k2yh**3*k2zh +4.*Wzzzx*k2zh**3*k2xh +4.*Wzzzy*k2zh**3*k2yh \\\n",
    "     +6.*Wxxyy*k2xh**2*k2yh**2+6.*Wxxzz*k2xh**2*k2zh**2+6.*Wyyzz*k2yh**2*k2zh**2 \\\n",
    "     +12.*Wxxyz*k2xh**2*k2yh*k2zh+12.*Wyyxz*k2yh**2*k2xh*k2zh +12.*Wzzxy*k2zh**2*k2xh*k2yh) \\\n",
    "     -5./2.*W_k2L2 -7./8.*W_L0\n",
    "        Wc_k2L4=np.conj(W_k2L4)\n",
    "        \n",
    "        W_k1L2_k2L2= 9./4.*k1k2 -3./4.*xx -1./2.*W_k2L2\n",
    "        W_k1L2_k2L4=2/7.*W_k1L2+20/77.*W_k1L4 #approximate as 6th order FFTs not simulated\n",
    "        W_k1L4_k2L2=W_k1L2_k2L4 #approximate\n",
    "        W_k1L4_k2L4=1/9.*W_L0+100/693.*W_k1L2+162/1001.*W_k1L4\n",
    "        Wc_k1L2_k2L2= np.conj(W_k1L2_k2L2)\n",
    "        Wc_k1L2_k2L4=np.conj(W_k1L2_k2L4); Wc_k1L4_k2L2=Wc_k1L2_k2L4\n",
    "        Wc_k1L4_k2L4=np.conj(W_k1L4_k2L4)\n",
    "        \n",
    "        k1k2W12=W12xxxx*(k1xh*k2xh)**2+W12yyyy*(k1yh*k2yh)**2+W12zzzz*(k1zh*k2zh)**2 \\\n",
    "            +W12xxxy*(k1xh*k1yh*k2xh**2+k1xh**2*k2xh*k2yh)*2\\\n",
    "            +W12xxxz*(k1xh*k1zh*k2xh**2+k1xh**2*k2xh*k2zh)*2\\\n",
    "            +W12yyyz*(k1yh*k1zh*k2yh**2+k1yh**2*k2yh*k2zh)*2\\\n",
    "            +W12zzzy*(k1zh*k1yh*k2zh**2+k1zh**2*k2zh*k2yh)*2\\\n",
    "            +W12yyyx*(k1yh*k1xh*k2yh**2+k1yh**2*k2yh*k2xh)*2\\\n",
    "            +W12zzzx*(k1zh*k1xh*k2zh**2+k1zh**2*k2zh*k2xh)*2\\\n",
    "            +W12xxyy*(k1xh**2*k2yh**2+k1yh**2*k2xh**2+4.*k1xh*k1yh*k2xh*k2yh)\\\n",
    "            +W12xxzz*(k1xh**2*k2zh**2+k1zh**2*k2xh**2+4.*k1xh*k1zh*k2xh*k2zh)\\\n",
    "            +W12yyzz*(k1yh**2*k2zh**2+k1zh**2*k2yh**2+4.*k1yh*k1zh*k2yh*k2zh)\\\n",
    "            +W12yyxz*(k1xh*k1zh*k2yh**2+k1yh**2*k2xh*k2zh+2.*k1yh*k2yh*(k1zh*k2xh+k1xh*k2zh))*2\\\n",
    "            +W12xxyz*(k1yh*k1zh*k2xh**2+k1xh**2*k2yh*k2zh+2.*k1xh*k2xh*(k1zh*k2yh+k1yh*k2zh))*2\\\n",
    "            +W12zzxy*(k1yh*k1xh*k2zh**2+k1zh**2*k2yh*k2xh+2.*k1zh*k2zh*(k1xh*k2yh+k1yh*k2xh))*2\n",
    "        \n",
    "        xxW12=W12xx*k1xh**2+W12yy*k1yh**2+W12zz*k1zh**2+2.*W12xy*k1xh*k1yh+2.*W12yz*k1yh*k1zh+2.*W12zx*k1zh*k1xh\n",
    "    \n",
    "        W12_L0 = W12\n",
    "        W12_k1L2=1.5*xxW12-0.5*W12\n",
    "        W12_k1L4=35./8.*(W12xxxx*k1xh**4 +W12yyyy*k1yh**4+W12zzzz*k1zh**4 \\\n",
    "     +4.*W12xxxy*k1xh**3*k1yh +4.*W12xxxz*k1xh**3*k1zh +4.*W12yyyx*k1yh**3*k1xh \\\n",
    "     +6.*W12xxyy*k1xh**2*k1yh**2+6.*W12xxzz*k1xh**2*k1zh**2+6.*W12yyzz*k1yh**2*k1zh**2 \\\n",
    "     +12.*W12xxyz*k1xh**2*k1yh*k1zh+12.*W12yyxz*k1yh**2*k1xh*k1zh +12.*W12zzxy*k1zh**2*k1xh*k1yh) \\\n",
    "     -5./2.*W12_k1L2 -7./8.*W12_L0\n",
    "        W12_k1L4_k2L2=2/7.*W12_k1L2+20/77.*W12_k1L4\n",
    "        W12_k1L4_k2L4=1/9.*W12_L0+100/693.*W12_k1L2+162/1001.*W12_k1L4\n",
    "        W12_k2L2=1.5*(W12xx*k2xh**2+W12yy*k2yh**2+W12zz*k2zh**2\\\n",
    "        +2.*W12xy*k2xh*k2yh+2.*W12yz*k2yh*k2zh+2.*W12zx*k2zh*k2xh)-0.5*W12\n",
    "        W12_k2L4=35./8.*(W12xxxx*k2xh**4 +W12yyyy*k2yh**4+W12zzzz*k2zh**4 \\\n",
    "     +4.*W12xxxy*k2xh**3*k2yh +4.*W12xxxz*k2xh**3*k2zh +4.*W12yyyx*k2yh**3*k2xh \\\n",
    "     +4.*W12yyyz*k2yh**3*k2zh +4.*W12zzzx*k2zh**3*k2xh +4.*W12zzzy*k2zh**3*k2yh \\\n",
    "     +6.*W12xxyy*k2xh**2*k2yh**2+6.*W12xxzz*k2xh**2*k2zh**2+6.*W12yyzz*k2yh**2*k2zh**2 \\\n",
    "     +12.*W12xxyz*k2xh**2*k2yh*k2zh+12.*W12yyxz*k2yh**2*k2xh*k2zh +12.*W12zzxy*k2zh**2*k2xh*k2yh) \\\n",
    "     -5./2.*W12_k2L2 -7./8.*W12_L0\n",
    "        \n",
    "        W12_k1L2_k2L2= 9./4.*k1k2W12 -3./4.*xxW12 -1./2.*W12_k2L2\n",
    "        \n",
    "        W_k1L2_Sumk2L22=1/5.*W_k1L2+2/7.*W_k1L2_k2L2+18/35.*W_k1L2_k2L4\n",
    "        W_k1L2_Sumk2L24=2/7.*W_k1L2_k2L2+20/77.*W_k1L2_k2L4\n",
    "        W_k1L4_Sumk2L22=1/5.*W_k1L4+2/7.*W_k1L4_k2L2+18/35.*W_k1L4_k2L4\n",
    "        W_k1L4_Sumk2L24=2/7.*W_k1L4_k2L2+20/77.*W_k1L4_k2L4\n",
    "        W_k1L4_Sumk2L44=1/9.*W_k1L4+100/693.*W_k1L4_k2L2+162/1001.*W_k1L4_k2L4\n",
    "        \n",
    "        C00exp = [Wc_L0*W_L0,Wc_L0*W_k2L2,Wc_L0*W_k2L4,\\\n",
    "                Wc_k1L2*W_L0,Wc_k1L2*W_k2L2,Wc_k1L2*W_k2L4,\\\n",
    "                Wc_k1L4*W_L0,Wc_k1L4*W_k2L2,Wc_k1L4*W_k2L4]\n",
    "        \n",
    "        C00exp += [2.*W_L0*W12_L0,W_k1L2*W12_L0,W_k1L4*W12_L0,\\\n",
    "                W_k2L2*W12_L0,W_k2L4*W12_L0,np.conj(W12_L0)*W12_L0]\n",
    "        \n",
    "        C22exp = [Wc_k2L2*W_k1L2 + Wc_L0*W_k1L2_k2L2,\\\n",
    "                Wc_k2L2*W_k1L2_k2L2 + Wc_L0*W_k1L2_Sumk2L22,\\\n",
    "                Wc_k2L2*W_k1L2_k2L4 + Wc_L0*W_k1L2_Sumk2L24,\\\n",
    "                Wc_k1L2_k2L2*W_k1L2 + Wc_k1L2*W_k1L2_k2L2,\\\n",
    "                Wc_k1L2_k2L2*W_k1L2_k2L2 + Wc_k1L2*W_k1L2_Sumk2L22,\\\n",
    "                Wc_k1L2_k2L2*W_k1L2_k2L4 + Wc_k1L2*W_k1L2_Sumk2L24,\\\n",
    "                Wc_k1L4_k2L2*W_k1L2 + Wc_k1L4*W_k1L2_k2L2,\\\n",
    "                Wc_k1L4_k2L2*W_k1L2_k2L2 + Wc_k1L4*W_k1L2_Sumk2L22,\\\n",
    "                Wc_k1L4_k2L2*W_k1L2_k2L4 + Wc_k1L4*W_k1L2_Sumk2L24]\n",
    "        \n",
    "        C22exp += [W_k1L2*W12_k2L2 + W_k2L2*W12_k1L2\\\n",
    "                   +W_k1L2_k2L2*W12_L0+W_L0*W12_k1L2_k2L2,\\\n",
    "                 0.5*((1/5.*W_L0+2/7.*W_k1L2+18/35.*W_k1L4)*W12_k2L2 + W_k1L2_k2L2*W12_k1L2\\\n",
    "+(1/5.*W_k2L2+2/7.*W_k1L2_k2L2+18/35.*W_k1L4_k2L2)*W12_L0 + W_k1L2*W12_k1L2_k2L2),\\\n",
    "    0.5*((2/7.*W_k1L2+20/77.*W_k1L4)*W12_k2L2 + W_k1L4_k2L2*W12_k1L2\\\n",
    "+(2/7.*W_k1L2_k2L2+20/77.*W_k1L4_k2L2)*W12_L0 + W_k1L4*W12_k1L2_k2L2),\\\n",
    "0.5*(W_k1L2_k2L2*W12_k2L2+(1/5.*W_L0+2/7.*W_k2L2+18/35.*W_k2L4)*W12_k1L2\\\n",
    "+(1/5.*W_k1L2+2/7.*W_k1L2_k2L2+18/35.*W_k1L2_k2L4)*W12_L0 + W_k2L2*W12_k1L2_k2L2),\\\n",
    "0.5*(W_k1L2_k2L4*W12_k2L2+(2/7.*W_k2L2+20/77.*W_k2L4)*W12_k1L2\\\n",
    "+(2/7.*W_k1L2_k2L2+20/77.*W_k1L2_k2L4)*W12_L0 + W_k2L4*W12_k1L2_k2L2),\\\n",
    "                 np.conj(W12_k1L2_k2L2)*W12_L0+np.conj(W12_k1L2)*W12_k2L2]\n",
    "        \n",
    "        C44exp = [Wc_k2L4*W_k1L4 + Wc_L0*W_k1L4_k2L4,\\\n",
    "                Wc_k2L4*W_k1L4_k2L2 + Wc_L0*W_k1L4_Sumk2L24,\\\n",
    "                Wc_k2L4*W_k1L4_k2L4 + Wc_L0*W_k1L4_Sumk2L44,\\\n",
    "                Wc_k1L2_k2L4*W_k1L4 + Wc_k1L2*W_k1L4_k2L4,\\\n",
    "                Wc_k1L2_k2L4*W_k1L4_k2L2 + Wc_k1L2*W_k1L4_Sumk2L24,\\\n",
    "                Wc_k1L2_k2L4*W_k1L4_k2L4 + Wc_k1L2*W_k1L4_Sumk2L44,\\\n",
    "                Wc_k1L4_k2L4*W_k1L4 + Wc_k1L4*W_k1L4_k2L4,\\\n",
    "                Wc_k1L4_k2L4*W_k1L4_k2L2 + Wc_k1L4*W_k1L4_Sumk2L24,\\\n",
    "                Wc_k1L4_k2L4*W_k1L4_k2L4 + Wc_k1L4*W_k1L4_Sumk2L44]\n",
    "        \n",
    "        C44exp += [W_k1L4*W12_k2L4 + W_k2L4*W12_k1L4\\\n",
    "                   +W_k1L4_k2L4*W12_L0+W_L0*W12_k1L4_k2L4,\\\n",
    "                 0.5*((2/7.*W_k1L2+20/77.*W_k1L4)*W12_k2L4 + W_k1L2_k2L4*W12_k1L4\\\n",
    "+(2/7.*W_k1L2_k2L4+20/77.*W_k1L4_k2L4)*W12_L0 + W_k1L2*W12_k1L4_k2L4),\\\n",
    "0.5*((1/9.*W_L0+100/693.*W_k1L2+162/1001.*W_k1L4)*W12_k2L4 + W_k1L4_k2L4*W12_k1L4\\\n",
    "+(1/9.*W_k2L4+100/693.*W_k1L2_k2L4+162/1001.*W_k1L4_k2L4)*W12_L0 + W_k1L4*W12_k1L4_k2L4),\\\n",
    "0.5*(W_k1L4_k2L2*W12_k2L4+(2/7.*W_k2L2+20/77.*W_k2L4)*W12_k1L4\\\n",
    "+(2/7.*W_k1L4_k2L2+20/77.*W_k1L4_k2L4)*W12_L0 + W_k2L2*W12_k1L4_k2L4),\\\n",
    "0.5*(W_k1L4_k2L4*W12_k2L4+(1/9.*W_L0+100/693.*W_k2L2+162/1001.*W_k2L4)*W12_k1L4\\\n",
    "+(1/9.*W_k1L4+100/693.*W_k1L4_k2L2+162/1001.*W_k1L4_k2L4)*W12_L0 + W_k2L4*W12_k1L4_k2L4),\\\n",
    "                 np.conj(W12_k1L4_k2L4)*W12_L0+np.conj(W12_k1L4)*W12_k2L4] #1/(nbar)^2\n",
    "        \n",
    "        C20exp = [Wc_L0*W_k1L2,Wc_L0*W_k1L2_k2L2,Wc_L0*W_k1L2_k2L4,\\\n",
    "                Wc_k1L2*W_k1L2,Wc_k1L2*W_k1L2_k2L2,Wc_k1L2*W_k1L2_k2L4,\\\n",
    "                Wc_k1L4*W_k1L2,Wc_k1L4*W_k1L2_k2L2,Wc_k1L4*W_k1L2_k2L4]\n",
    "        \n",
    "        C20exp += [W_k1L2*W12_L0 + W*W12_k1L2,\\\n",
    "                 0.5*((1/5.*W+2/7.*W_k1L2+18/35.*W_k1L4)*W12_L0 + W_k1L2*W12_k1L2),\\\n",
    "                0.5*((2/7.*W_k1L2+20/77.*W_k1L4)*W12_L0 + W_k1L4*W12_k1L2),\\\n",
    "                0.5*(W_k1L2_k2L2*W12_L0 + W_k2L2*W12_k1L2),\\\n",
    "                 0.5*(W_k1L2_k2L4*W12_L0 + W_k2L4*W12_k1L2),\\\n",
    "                 np.conj(W12_k1L2)*W12_L0]\n",
    "        \n",
    "        C40exp = [Wc_L0*W_k1L4,Wc_L0*W_k1L4_k2L2,Wc_L0*W_k1L4_k2L4,\\\n",
    "                Wc_k1L2*W_k1L4,Wc_k1L2*W_k1L4_k2L2,Wc_k1L2*W_k1L4_k2L4,\\\n",
    "                Wc_k1L4*W_k1L4,Wc_k1L4*W_k1L4_k2L2,Wc_k1L4*W_k1L4_k2L4]\n",
    "        \n",
    "        C40exp += [W_k1L4*W12_L0 + W*W12_k1L4,\\\n",
    "                 0.5*((2/7.*W_k1L2+20/77.*W_k1L4)*W12_L0 + W_k1L2*W12_k1L4),\\\n",
    "                0.5*((1/9.*W+100/693.*W_k1L2+162/1001.*W_k1L4)*W12_L0 + W_k1L4*W12_k1L4),\\\n",
    "                0.5*(W_k1L4_k2L2*W12_L0 + W_k2L2*W12_k1L4),\\\n",
    "                 0.5*(W_k1L4_k2L4*W12_L0 + W_k2L4*W12_k1L4),\\\n",
    "                 np.conj(W12_k1L4)*W12_L0]\n",
    "        \n",
    "        C42exp = [Wc_k2L2*W_k1L4 + Wc_L0*W_k1L4_k2L2,\\\n",
    "                Wc_k2L2*W_k1L4_k2L2 + Wc_L0*W_k1L4_Sumk2L22,\\\n",
    "                Wc_k2L2*W_k1L4_k2L4 + Wc_L0*W_k1L4_Sumk2L24,\\\n",
    "                Wc_k1L2_k2L2*W_k1L4 + Wc_k1L2*W_k1L4_k2L2,\\\n",
    "                Wc_k1L2_k2L2*W_k1L4_k2L2 + Wc_k1L2*W_k1L4_Sumk2L22,\\\n",
    "                Wc_k1L2_k2L2*W_k1L4_k2L4 + Wc_k1L2*W_k1L4_Sumk2L24,\\\n",
    "                Wc_k1L4_k2L2*W_k1L4 + Wc_k1L4*W_k1L4_k2L2,\\\n",
    "                Wc_k1L4_k2L2*W_k1L4_k2L2 + Wc_k1L4*W_k1L4_Sumk2L22,\\\n",
    "                Wc_k1L4_k2L2*W_k1L4_k2L4 + Wc_k1L4*W_k1L4_Sumk2L24]\n",
    "        \n",
    "        C42exp += [W_k1L4*W12_k2L2 + W_k2L2*W12_k1L4+\\\n",
    "                   W_k1L4_k2L2*W12_L0+W*W12_k1L4_k2L2,\\\n",
    "                 0.5*((2/7.*W_k1L2+20/77.*W_k1L4)*W12_k2L2 + W_k1L2_k2L2*W12_k1L4\\\n",
    "    +(2/7.*W_k1L2_k2L2+20/77.*W_k1L4_k2L2)*W12_L0 + W_k1L2*W12_k1L4_k2L2),\\\n",
    "    0.5*((1/9.*W+100/693.*W_k1L2+162/1001.*W_k1L4)*W12_k2L2 + W_k1L4_k2L2*W12_k1L4\\\n",
    "+(1/9.*W_k2L2+100/693.*W_k1L2_k2L2+162/1001.*W_k1L4_k2L2)*W12_L0 + W_k1L4*W12_k1L4_k2L2),\\\n",
    "0.5*(W_k1L4_k2L2*W12_k2L2+(1/5.*W+2/7.*W_k2L2+18/35.*W_k2L4)*W12_k1L4\\\n",
    "+(1/5.*W_k1L4+2/7.*W_k1L4_k2L2+18/35.*W_k1L4_k2L4)*W12_L0 + W_k2L2*W12_k1L4_k2L2),\\\n",
    "0.5*(W_k1L4_k2L4*W12_k2L2+(2/7.*W_k2L2+20/77.*W_k2L4)*W12_k1L4\\\n",
    "+(2/7.*W_k1L4_k2L2+20/77.*W_k1L4_k2L4)*W12_L0 + W_k2L4*W12_k1L4_k2L2),\\\n",
    "                 np.conj(W12_k1L4_k2L2)*W12_L0+np.conj(W12_k1L4)*W12_k2L2] #1/(nbar)^2\n",
    "        \n",
    "        for i in range(-3,4):\n",
    "            ind=(sort==i);\n",
    "            for j in range(15):\n",
    "                avgW00[i+3,j]+=np.sum(C00exp[j][ind])\n",
    "                avgW22[i+3,j]+=np.sum(C22exp[j][ind])\n",
    "                avgW44[i+3,j]+=np.sum(C44exp[j][ind])\n",
    "                avgW20[i+3,j]+=np.sum(C20exp[j][ind])\n",
    "                avgW40[i+3,j]+=np.sum(C40exp[j][ind])\n",
    "                avgW42[i+3,j]+=np.sum(C42exp[j][ind])\n",
    "            \n",
    "    for i in range(0,2*3+1):\n",
    "        if(i+Nbin-3>=nBins or i+Nbin-3<0): \n",
    "            avgW00[i]*=0; avgW22[i]*=0; avgW44[i]*=0;\n",
    "            avgW20[i]*=0; avgW40[i]*=0; avgW42[i]*=0; continue\n",
    "        avgW00[i]=avgW00[i]/(norm*Bin_ModeNum[Nbin+i-3]*I22**2)\n",
    "        avgW22[i]=avgW22[i]/(norm*Bin_ModeNum[Nbin+i-3]*I22**2)\n",
    "        avgW44[i]=avgW44[i]/(norm*Bin_ModeNum[Nbin+i-3]*I22**2)\n",
    "        avgW20[i]=avgW20[i]/(norm*Bin_ModeNum[Nbin+i-3]*I22**2)\n",
    "        avgW40[i]=avgW40[i]/(norm*Bin_ModeNum[Nbin+i-3]*I22**2)\n",
    "        avgW42[i]=avgW42[i]/(norm*Bin_ModeNum[Nbin+i-3]*I22**2)\n",
    "        \n",
    "    avgWij[:,:,0]=2.*np.real(avgW00); avgWij[:,:,1]=25.*np.real(avgW22); avgWij[:,:,2]=81.*np.real(avgW44);\n",
    "    avgWij[:,:,3]=5.*2.*np.real(avgW20); avgWij[:,:,4]=9.*2.*np.real(avgW40); avgWij[:,:,5]=45.*np.real(avgW42);\n",
    "    return(avgWij)\n",
    "\n",
    "#Index of the k1-bin for which the window kernels are calculated\n",
    "k1_bin=40\n",
    "\n",
    "kmodes_sampled=250 # Number of k-modes sampled in the k1 shell. \n",
    "# For final result in paper ~25000 modes are used and the code is run on a cluster \n",
    "# (see the snippets at the end of this notebook)\n",
    "\n",
    "Wij = WinFun(k1_bin)"
   ]
  },
  {
   "cell_type": "code",
   "execution_count": 61,
   "id": "147f0a2b-9a23-4bac-969e-2153b426fbde",
   "metadata": {},
   "outputs": [
    {
     "data": {
      "text/plain": [
       "0.6159811019897461"
      ]
     },
     "execution_count": 61,
     "metadata": {},
     "output_type": "execute_result"
    }
   ],
   "source": [
    "c.WinKernel[40,3,0,0]"
   ]
  },
  {
   "cell_type": "code",
   "execution_count": 72,
   "id": "9b196efa-4ccf-435f-b8d5-edf3847a3d80",
   "metadata": {},
   "outputs": [
    {
     "data": {
      "text/plain": [
       "[<matplotlib.lines.Line2D at 0x7fb146c7a290>]"
      ]
     },
     "execution_count": 72,
     "metadata": {},
     "output_type": "execute_result"
    },
    {
     "data": {
      "image/png": "[encoded data removed]",
      "text/plain": [
       "<Figure size 432x288 with 1 Axes>"
      ]
     },
     "metadata": {
      "needs_background": "light"
     },
     "output_type": "display_data"
    }
   ],
   "source": [
    "icut=15\n",
    "cutW = lambda W: W[W.shape[0]//2-icut-1 : W.shape[0]//2+icut,\n",
    "                   W.shape[1]//2-icut-1 : W.shape[1]//2+icut,\n",
    "                   W.shape[2]//2-icut-1 : W.shape[2]//2+icut]\n",
    "\n",
    "Wcut = {key: cutW(c.W[key]) for key in c.W.keys()}\n",
    "\n",
    "plot.plot(np.real(Wcut['22'][15,15,:]))\n",
    "plot.plot(np.real(W[15,15,:]))"
   ]
  }
 ],
 "metadata": {
  "kernelspec": {
   "display_name": "Python 3 (ipykernel)",
   "language": "python",
   "name": "python3"
  },
  "language_info": {
   "codemirror_mode": {
    "name": "ipython",
    "version": 3
   },
   "file_extension": ".py",
   "mimetype": "text/x-python",
   "name": "python",
   "nbconvert_exporter": "python",
   "pygments_lexer": "ipython3",
   "version": "3.10.2"
  }
 },
 "nbformat": 4,
 "nbformat_minor": 5
}
